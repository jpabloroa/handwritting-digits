{
 "cells": [
  {
   "cell_type": "code",
   "execution_count": 18,
   "id": "4f503e47",
   "metadata": {},
   "outputs": [],
   "source": [
    "import tensorflow_datasets as tfds\n",
    "import tensorflow as tf"
   ]
  },
  {
   "cell_type": "code",
   "execution_count": 19,
   "id": "28903074",
   "metadata": {},
   "outputs": [
    {
     "data": {
      "text/plain": [
       "np.int64(60000)"
      ]
     },
     "execution_count": 19,
     "metadata": {},
     "output_type": "execute_result"
    }
   ],
   "source": [
    "train_ds = tfds.load('mnist', split='train', as_supervised=True, shuffle_files=True)\n",
    "train_ds = train_ds.shuffle(buffer_size=train_ds.cardinality())\n",
    "train_ds.cardinality().numpy()"
   ]
  },
  {
   "cell_type": "code",
   "execution_count": 20,
   "id": "d1eecbd4",
   "metadata": {},
   "outputs": [
    {
     "data": {
      "text/plain": [
       "np.int64(10000)"
      ]
     },
     "execution_count": 20,
     "metadata": {},
     "output_type": "execute_result"
    }
   ],
   "source": [
    "test_ds = tfds.load('mnist', split='test', as_supervised=True, shuffle_files=True)\n",
    "test_ds.cardinality().numpy()"
   ]
  },
  {
   "cell_type": "code",
   "execution_count": 21,
   "id": "79eafd17",
   "metadata": {},
   "outputs": [],
   "source": [
    "# Guardar datasets\n",
    "\n",
    "dataset_version = '1'\n",
    "\n",
    "train_ds.save(f'V{dataset_version}/train_ds')\n",
    "test_ds.save(f'V{dataset_version}/test_ds')"
   ]
  }
 ],
 "metadata": {
  "kernelspec": {
   "display_name": ".venv",
   "language": "python",
   "name": "python3"
  },
  "language_info": {
   "codemirror_mode": {
    "name": "ipython",
    "version": 3
   },
   "file_extension": ".py",
   "mimetype": "text/x-python",
   "name": "python",
   "nbconvert_exporter": "python",
   "pygments_lexer": "ipython3",
   "version": "3.12.10"
  }
 },
 "nbformat": 4,
 "nbformat_minor": 5
}
